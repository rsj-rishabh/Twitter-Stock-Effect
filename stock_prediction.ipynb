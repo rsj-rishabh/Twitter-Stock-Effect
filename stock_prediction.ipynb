{
 "cells": [
  {
   "cell_type": "code",
   "execution_count": 1,
   "id": "48119266",
   "metadata": {},
   "outputs": [],
   "source": [
    "import pandas as pd\n",
    "import numpy as np\n",
    "import matplotlib.pyplot as plt"
   ]
  },
  {
   "cell_type": "code",
   "execution_count": 2,
   "id": "cf2288eb",
   "metadata": {},
   "outputs": [
    {
     "name": "stderr",
     "output_type": "stream",
     "text": [
      "/var/folders/_4/kpr2wwvs1p34_pmnnchyg7lm0000gn/T/ipykernel_59750/3272126367.py:1: DtypeWarning: Columns (0,61) have mixed types. Specify dtype option on import or set low_memory=False.\n",
      "  data = pd.read_csv('aggregate_data.csv')\n"
     ]
    },
    {
     "data": {
      "text/html": [
       "<div>\n",
       "<style scoped>\n",
       "    .dataframe tbody tr th:only-of-type {\n",
       "        vertical-align: middle;\n",
       "    }\n",
       "\n",
       "    .dataframe tbody tr th {\n",
       "        vertical-align: top;\n",
       "    }\n",
       "\n",
       "    .dataframe thead th {\n",
       "        text-align: right;\n",
       "    }\n",
       "</style>\n",
       "<table border=\"1\" class=\"dataframe\">\n",
       "  <thead>\n",
       "    <tr style=\"text-align: right;\">\n",
       "      <th></th>\n",
       "      <th>Close(t-30)</th>\n",
       "      <th>EffectiveSentimentPolarity(t-30)</th>\n",
       "      <th>Close(t-29)</th>\n",
       "      <th>EffectiveSentimentPolarity(t-29)</th>\n",
       "      <th>Close(t-28)</th>\n",
       "      <th>EffectiveSentimentPolarity(t-28)</th>\n",
       "      <th>Close(t-27)</th>\n",
       "      <th>EffectiveSentimentPolarity(t-27)</th>\n",
       "      <th>Close(t-26)</th>\n",
       "      <th>EffectiveSentimentPolarity(t-26)</th>\n",
       "      <th>...</th>\n",
       "      <th>EffectiveSentimentPolarity(t-5)</th>\n",
       "      <th>Close(t-4)</th>\n",
       "      <th>EffectiveSentimentPolarity(t-4)</th>\n",
       "      <th>Close(t-3)</th>\n",
       "      <th>EffectiveSentimentPolarity(t-3)</th>\n",
       "      <th>Close(t-2)</th>\n",
       "      <th>EffectiveSentimentPolarity(t-2)</th>\n",
       "      <th>Close(t-1)</th>\n",
       "      <th>EffectiveSentimentPolarity(t-1)</th>\n",
       "      <th>Close(t)</th>\n",
       "    </tr>\n",
       "  </thead>\n",
       "  <tbody>\n",
       "    <tr>\n",
       "      <th>0</th>\n",
       "      <td>96.424286</td>\n",
       "      <td>0.0</td>\n",
       "      <td>95.747147</td>\n",
       "      <td>0.0</td>\n",
       "      <td>96.610001</td>\n",
       "      <td>0.0</td>\n",
       "      <td>97.205711</td>\n",
       "      <td>0.0</td>\n",
       "      <td>94.677139</td>\n",
       "      <td>0.0</td>\n",
       "      <td>...</td>\n",
       "      <td>0.0</td>\n",
       "      <td>91.558571</td>\n",
       "      <td>0.0</td>\n",
       "      <td>89.728569</td>\n",
       "      <td>0.0</td>\n",
       "      <td>89.958572</td>\n",
       "      <td>0.0</td>\n",
       "      <td>90.680000</td>\n",
       "      <td>0.0</td>\n",
       "      <td>92.827141</td>\n",
       "    </tr>\n",
       "    <tr>\n",
       "      <th>1</th>\n",
       "      <td>95.747147</td>\n",
       "      <td>0.0</td>\n",
       "      <td>96.610001</td>\n",
       "      <td>0.0</td>\n",
       "      <td>97.205711</td>\n",
       "      <td>0.0</td>\n",
       "      <td>94.677139</td>\n",
       "      <td>0.0</td>\n",
       "      <td>94.370003</td>\n",
       "      <td>0.0</td>\n",
       "      <td>...</td>\n",
       "      <td>0.0</td>\n",
       "      <td>89.728569</td>\n",
       "      <td>0.0</td>\n",
       "      <td>89.958572</td>\n",
       "      <td>0.0</td>\n",
       "      <td>90.680000</td>\n",
       "      <td>0.0</td>\n",
       "      <td>92.827141</td>\n",
       "      <td>0.0</td>\n",
       "      <td>92.087143</td>\n",
       "    </tr>\n",
       "    <tr>\n",
       "      <th>2</th>\n",
       "      <td>96.610001</td>\n",
       "      <td>0.0</td>\n",
       "      <td>97.205711</td>\n",
       "      <td>0.0</td>\n",
       "      <td>94.677139</td>\n",
       "      <td>0.0</td>\n",
       "      <td>94.370003</td>\n",
       "      <td>0.0</td>\n",
       "      <td>95.684288</td>\n",
       "      <td>0.0</td>\n",
       "      <td>...</td>\n",
       "      <td>0.0</td>\n",
       "      <td>89.958572</td>\n",
       "      <td>0.0</td>\n",
       "      <td>90.680000</td>\n",
       "      <td>0.0</td>\n",
       "      <td>92.827141</td>\n",
       "      <td>0.0</td>\n",
       "      <td>92.087143</td>\n",
       "      <td>0.0</td>\n",
       "      <td>90.377144</td>\n",
       "    </tr>\n",
       "    <tr>\n",
       "      <th>3</th>\n",
       "      <td>97.205711</td>\n",
       "      <td>0.0</td>\n",
       "      <td>94.677139</td>\n",
       "      <td>0.0</td>\n",
       "      <td>94.370003</td>\n",
       "      <td>0.0</td>\n",
       "      <td>95.684288</td>\n",
       "      <td>0.0</td>\n",
       "      <td>97.568573</td>\n",
       "      <td>0.0</td>\n",
       "      <td>...</td>\n",
       "      <td>0.0</td>\n",
       "      <td>90.680000</td>\n",
       "      <td>0.0</td>\n",
       "      <td>92.827141</td>\n",
       "      <td>0.0</td>\n",
       "      <td>92.087143</td>\n",
       "      <td>0.0</td>\n",
       "      <td>90.377144</td>\n",
       "      <td>0.0</td>\n",
       "      <td>87.120003</td>\n",
       "    </tr>\n",
       "    <tr>\n",
       "      <th>4</th>\n",
       "      <td>94.677139</td>\n",
       "      <td>0.0</td>\n",
       "      <td>94.370003</td>\n",
       "      <td>0.0</td>\n",
       "      <td>95.684288</td>\n",
       "      <td>0.0</td>\n",
       "      <td>97.568573</td>\n",
       "      <td>0.0</td>\n",
       "      <td>98.754288</td>\n",
       "      <td>0.0</td>\n",
       "      <td>...</td>\n",
       "      <td>0.0</td>\n",
       "      <td>92.827141</td>\n",
       "      <td>0.0</td>\n",
       "      <td>92.087143</td>\n",
       "      <td>0.0</td>\n",
       "      <td>90.377144</td>\n",
       "      <td>0.0</td>\n",
       "      <td>87.120003</td>\n",
       "      <td>0.0</td>\n",
       "      <td>90.575714</td>\n",
       "    </tr>\n",
       "  </tbody>\n",
       "</table>\n",
       "<p>5 rows × 61 columns</p>\n",
       "</div>"
      ],
      "text/plain": [
       "   Close(t-30)  EffectiveSentimentPolarity(t-30)  Close(t-29)  \\\n",
       "0    96.424286                               0.0    95.747147   \n",
       "1    95.747147                               0.0    96.610001   \n",
       "2    96.610001                               0.0    97.205711   \n",
       "3    97.205711                               0.0    94.677139   \n",
       "4    94.677139                               0.0    94.370003   \n",
       "\n",
       "   EffectiveSentimentPolarity(t-29)  Close(t-28)  \\\n",
       "0                               0.0    96.610001   \n",
       "1                               0.0    97.205711   \n",
       "2                               0.0    94.677139   \n",
       "3                               0.0    94.370003   \n",
       "4                               0.0    95.684288   \n",
       "\n",
       "   EffectiveSentimentPolarity(t-28)  Close(t-27)  \\\n",
       "0                               0.0    97.205711   \n",
       "1                               0.0    94.677139   \n",
       "2                               0.0    94.370003   \n",
       "3                               0.0    95.684288   \n",
       "4                               0.0    97.568573   \n",
       "\n",
       "   EffectiveSentimentPolarity(t-27)  Close(t-26)  \\\n",
       "0                               0.0    94.677139   \n",
       "1                               0.0    94.370003   \n",
       "2                               0.0    95.684288   \n",
       "3                               0.0    97.568573   \n",
       "4                               0.0    98.754288   \n",
       "\n",
       "   EffectiveSentimentPolarity(t-26)  ...  EffectiveSentimentPolarity(t-5)  \\\n",
       "0                               0.0  ...                              0.0   \n",
       "1                               0.0  ...                              0.0   \n",
       "2                               0.0  ...                              0.0   \n",
       "3                               0.0  ...                              0.0   \n",
       "4                               0.0  ...                              0.0   \n",
       "\n",
       "   Close(t-4)  EffectiveSentimentPolarity(t-4)  Close(t-3)  \\\n",
       "0   91.558571                              0.0   89.728569   \n",
       "1   89.728569                              0.0   89.958572   \n",
       "2   89.958572                              0.0   90.680000   \n",
       "3   90.680000                              0.0   92.827141   \n",
       "4   92.827141                              0.0   92.087143   \n",
       "\n",
       "   EffectiveSentimentPolarity(t-3)  Close(t-2)  \\\n",
       "0                              0.0   89.958572   \n",
       "1                              0.0   90.680000   \n",
       "2                              0.0   92.827141   \n",
       "3                              0.0   92.087143   \n",
       "4                              0.0   90.377144   \n",
       "\n",
       "   EffectiveSentimentPolarity(t-2)  Close(t-1)  \\\n",
       "0                              0.0   90.680000   \n",
       "1                              0.0   92.827141   \n",
       "2                              0.0   92.087143   \n",
       "3                              0.0   90.377144   \n",
       "4                              0.0   87.120003   \n",
       "\n",
       "   EffectiveSentimentPolarity(t-1)   Close(t)  \n",
       "0                              0.0  92.827141  \n",
       "1                              0.0  92.087143  \n",
       "2                              0.0  90.377144  \n",
       "3                              0.0  87.120003  \n",
       "4                              0.0  90.575714  \n",
       "\n",
       "[5 rows x 61 columns]"
      ]
     },
     "execution_count": 2,
     "metadata": {},
     "output_type": "execute_result"
    }
   ],
   "source": [
    "data = pd.read_csv('aggregate_data.csv')\n",
    "to_drop = ['Company(t-30)', 'Company(t)', 'EffectiveSentimentPolarity(t)']\n",
    "           \n",
    "data = data.drop(to_drop, axis=1)\n",
    "data.head()"
   ]
  },
  {
   "cell_type": "markdown",
   "id": "9af80b37-34b5-4159-9a66-b94a6db4b3a0",
   "metadata": {},
   "source": [
    "### With ESP"
   ]
  },
  {
   "cell_type": "code",
   "execution_count": 3,
   "id": "1a713107-337b-425a-9b9b-3762e16319a9",
   "metadata": {},
   "outputs": [],
   "source": [
    "# divide into train and test\n",
    "div = int( len(data)*0.3 )\n",
    "data_train = data.iloc[:div, :]\n",
    "data_test = data.iloc[div:, :]\n",
    "\n",
    "# divide into X and y\n",
    "X_train = data_train.iloc[:, :-1].values\n",
    "y_train = data_train.iloc[:, -1].values\n",
    "X_test = data_test.iloc[:, :-1].values\n",
    "y_test = data_test.iloc[:, -1].values"
   ]
  },
  {
   "cell_type": "code",
   "execution_count": 4,
   "id": "7a348a93-b450-4306-a812-2354779a5a05",
   "metadata": {},
   "outputs": [],
   "source": [
    "#create scalers \n",
    "from sklearn.preprocessing import MinMaxScaler\n",
    "\n",
    "x_scaler = MinMaxScaler()\n",
    "X_train_scaled = x_scaler.fit_transform(X_train)\n",
    "\n",
    "y_scaler = MinMaxScaler()\n",
    "y_train_scaled = y_scaler.fit_transform(y_train.reshape(-1,1))"
   ]
  },
  {
   "cell_type": "markdown",
   "id": "7a5a5637",
   "metadata": {},
   "source": [
    "#### Linear Regression"
   ]
  },
  {
   "cell_type": "code",
   "execution_count": 5,
   "id": "0ba4d71a",
   "metadata": {},
   "outputs": [
    {
     "data": {
      "text/plain": [
       "LinearRegression()"
      ]
     },
     "execution_count": 5,
     "metadata": {},
     "output_type": "execute_result"
    }
   ],
   "source": [
    "from sklearn.linear_model import LinearRegression\n",
    "\n",
    "lr_model = LinearRegression()\n",
    "lr_model.fit(X_train_scaled, y_train_scaled)"
   ]
  },
  {
   "cell_type": "code",
   "execution_count": 6,
   "id": "abb036de-87b2-436a-b189-5f4eda4969fb",
   "metadata": {},
   "outputs": [
    {
     "data": {
      "text/plain": [
       "0.999926925544369"
      ]
     },
     "execution_count": 6,
     "metadata": {},
     "output_type": "execute_result"
    }
   ],
   "source": [
    "lr_model.score(X_train_scaled,y_train_scaled)"
   ]
  },
  {
   "cell_type": "code",
   "execution_count": 7,
   "id": "68173399-1000-4620-9f74-2cd2f4f50455",
   "metadata": {},
   "outputs": [],
   "source": [
    "X_test_scaled = x_scaler.transform(X_test)\n",
    "y_hat = lr_model.predict(X_test_scaled)\n",
    "y_hat_descaled = y_scaler.inverse_transform(y_hat)"
   ]
  },
  {
   "cell_type": "code",
   "execution_count": 8,
   "id": "43e03fb7-7bea-41df-82a8-a9dbf5730ba0",
   "metadata": {},
   "outputs": [
    {
     "data": {
      "text/plain": [
       "3.718030648507633"
      ]
     },
     "execution_count": 8,
     "metadata": {},
     "output_type": "execute_result"
    }
   ],
   "source": [
    "from sklearn.metrics import mean_squared_error\n",
    "import math\n",
    "\n",
    "math.sqrt(mean_squared_error(y_test, y_hat_descaled))"
   ]
  },
  {
   "cell_type": "markdown",
   "id": "fd285bf2-8ac9-456f-988f-b95ba5536c5b",
   "metadata": {},
   "source": [
    "#### Ridge Regression"
   ]
  },
  {
   "cell_type": "code",
   "execution_count": 10,
   "id": "82a7a872-b679-4990-b331-60cd7704079e",
   "metadata": {},
   "outputs": [
    {
     "name": "stdout",
     "output_type": "stream",
     "text": [
      "0.9998100621850993\n"
     ]
    },
    {
     "data": {
      "text/plain": [
       "5.707197608548323"
      ]
     },
     "execution_count": 10,
     "metadata": {},
     "output_type": "execute_result"
    }
   ],
   "source": [
    "from sklearn.linear_model import Ridge\n",
    "\n",
    "rg_model = Ridge()\n",
    "rg_model.fit(X_train_scaled, y_train_scaled)\n",
    "\n",
    "print( rg_model.score(X_train_scaled,y_train_scaled) )\n",
    "\n",
    "X_test_scaled = x_scaler.transform(X_test)\n",
    "y_hat = rg_model.predict(X_test_scaled)\n",
    "y_hat_descaled = y_scaler.inverse_transform(y_hat)\n",
    "\n",
    "from sklearn.metrics import mean_squared_error\n",
    "import math\n",
    "\n",
    "math.sqrt(mean_squared_error(y_test, y_hat_descaled))"
   ]
  },
  {
   "cell_type": "markdown",
   "id": "ee5b2893-b174-4176-8648-739fe41cf77e",
   "metadata": {},
   "source": [
    "#### Lasso Regression"
   ]
  },
  {
   "cell_type": "code",
   "execution_count": 11,
   "id": "2c48a082-b371-40d3-953b-a06a8605df08",
   "metadata": {},
   "outputs": [
    {
     "name": "stdout",
     "output_type": "stream",
     "text": [
      "0.999570466226777\n"
     ]
    },
    {
     "name": "stderr",
     "output_type": "stream",
     "text": [
      "/Users/jarvis/miniforge3/lib/python3.9/site-packages/sklearn/linear_model/_coordinate_descent.py:647: ConvergenceWarning: Objective did not converge. You might want to increase the number of iterations, check the scale of the features or consider increasing regularisation. Duality gap: 2.424e-01, tolerance: 6.729e-02\n",
      "  model = cd_fast.enet_coordinate_descent(\n"
     ]
    },
    {
     "data": {
      "text/plain": [
       "7.815717166132901"
      ]
     },
     "execution_count": 11,
     "metadata": {},
     "output_type": "execute_result"
    }
   ],
   "source": [
    "from sklearn.linear_model import Lasso\n",
    "\n",
    "ls_model = Lasso(alpha=0.00001)\n",
    "ls_model.fit(X_train_scaled, y_train_scaled)\n",
    "\n",
    "print( ls_model.score(X_train_scaled,y_train_scaled) )\n",
    "\n",
    "X_test_scaled = x_scaler.transform(X_test)\n",
    "y_hat = ls_model.predict(X_test_scaled)\n",
    "y_hat_descaled = y_scaler.inverse_transform(y_hat.reshape(-1,1))\n",
    "\n",
    "from sklearn.metrics import mean_squared_error\n",
    "import math\n",
    "\n",
    "math.sqrt(mean_squared_error(y_test, y_hat_descaled))"
   ]
  },
  {
   "cell_type": "markdown",
   "id": "801685dc-26c0-4f3f-a1de-1a8e6bec02ce",
   "metadata": {},
   "source": [
    "#### SGD Regressor"
   ]
  },
  {
   "cell_type": "code",
   "execution_count": 12,
   "id": "c1398435-ac66-49e3-bebb-92de04891bfa",
   "metadata": {},
   "outputs": [
    {
     "name": "stdout",
     "output_type": "stream",
     "text": [
      "0.9993381413401909\n"
     ]
    },
    {
     "name": "stderr",
     "output_type": "stream",
     "text": [
      "/Users/jarvis/miniforge3/lib/python3.9/site-packages/sklearn/utils/validation.py:993: DataConversionWarning: A column-vector y was passed when a 1d array was expected. Please change the shape of y to (n_samples, ), for example using ravel().\n",
      "  y = column_or_1d(y, warn=True)\n"
     ]
    },
    {
     "data": {
      "text/plain": [
       "33.35913095081706"
      ]
     },
     "execution_count": 12,
     "metadata": {},
     "output_type": "execute_result"
    }
   ],
   "source": [
    "from sklearn.linear_model import SGDRegressor\n",
    "\n",
    "sgd_model = SGDRegressor(alpha=0.00001)\n",
    "sgd_model.fit(X_train_scaled, y_train_scaled)\n",
    "\n",
    "print( sgd_model.score(X_train_scaled,y_train_scaled) )\n",
    "\n",
    "X_test_scaled = x_scaler.transform(X_test)\n",
    "y_hat = sgd_model.predict(X_test_scaled)\n",
    "y_hat_descaled = y_scaler.inverse_transform(y_hat.reshape(-1,1))\n",
    "\n",
    "from sklearn.metrics import mean_squared_error\n",
    "import math\n",
    "\n",
    "math.sqrt(mean_squared_error(y_test, y_hat_descaled))"
   ]
  },
  {
   "cell_type": "markdown",
   "id": "1161119c-9481-496a-9c24-495b8a8bde6e",
   "metadata": {},
   "source": [
    "#### Decision tree regressor"
   ]
  },
  {
   "cell_type": "code",
   "execution_count": 13,
   "id": "01fc34f7-93aa-4696-98b5-dbc230a56ac6",
   "metadata": {},
   "outputs": [
    {
     "data": {
      "text/plain": [
       "DecisionTreeRegressor(max_depth=8, random_state=0)"
      ]
     },
     "execution_count": 13,
     "metadata": {},
     "output_type": "execute_result"
    }
   ],
   "source": [
    "from sklearn.tree import DecisionTreeRegressor\n",
    "\n",
    "dtr_model = DecisionTreeRegressor(max_depth=8, random_state=0)\n",
    "dtr_model.fit(X_train_scaled, y_train_scaled)"
   ]
  },
  {
   "cell_type": "code",
   "execution_count": 14,
   "id": "0a09aa55-f0e0-4c06-a54d-aa094488a707",
   "metadata": {},
   "outputs": [
    {
     "data": {
      "text/plain": [
       "0.9999587866743497"
      ]
     },
     "execution_count": 14,
     "metadata": {},
     "output_type": "execute_result"
    }
   ],
   "source": [
    "dtr_model.score(X_train_scaled,y_train_scaled)"
   ]
  },
  {
   "cell_type": "code",
   "execution_count": 15,
   "id": "5ab862e3-66b1-4705-a172-c341fda2e89f",
   "metadata": {},
   "outputs": [],
   "source": [
    "X_test_scaled = x_scaler.transform(X_test)\n",
    "y_hat = dtr_model.predict(X_test_scaled)\n",
    "y_hat_descaled = y_scaler.inverse_transform(y_hat.reshape(-1,1))"
   ]
  },
  {
   "cell_type": "code",
   "execution_count": 16,
   "id": "46d818d4-8f21-49f2-8ffc-12b01a1c16d6",
   "metadata": {},
   "outputs": [
    {
     "data": {
      "text/plain": [
       "44.103015522275356"
      ]
     },
     "execution_count": 16,
     "metadata": {},
     "output_type": "execute_result"
    }
   ],
   "source": [
    "math.sqrt(mean_squared_error(y_test, y_hat_descaled))"
   ]
  },
  {
   "cell_type": "markdown",
   "id": "07106d94-9a82-48cc-89e4-6ddb39ace2de",
   "metadata": {},
   "source": [
    "#### Support Vector Regressor"
   ]
  },
  {
   "cell_type": "code",
   "execution_count": 17,
   "id": "9e40229c-f8cc-41d1-a92e-40ed8f422db1",
   "metadata": {},
   "outputs": [
    {
     "name": "stderr",
     "output_type": "stream",
     "text": [
      "/Users/jarvis/miniforge3/lib/python3.9/site-packages/sklearn/utils/validation.py:993: DataConversionWarning: A column-vector y was passed when a 1d array was expected. Please change the shape of y to (n_samples, ), for example using ravel().\n",
      "  y = column_or_1d(y, warn=True)\n"
     ]
    },
    {
     "data": {
      "text/plain": [
       "SVR(max_iter=10000)"
      ]
     },
     "execution_count": 17,
     "metadata": {},
     "output_type": "execute_result"
    }
   ],
   "source": [
    "from sklearn.svm import SVR\n",
    "\n",
    "svr_model = SVR(max_iter=10000)\n",
    "svr_model.fit(X_train_scaled, y_train_scaled)"
   ]
  },
  {
   "cell_type": "code",
   "execution_count": 18,
   "id": "8b2aceb2-1c20-4699-8c26-bf264dfbb320",
   "metadata": {},
   "outputs": [
    {
     "data": {
      "text/plain": [
       "0.9594338047508056"
      ]
     },
     "execution_count": 18,
     "metadata": {},
     "output_type": "execute_result"
    }
   ],
   "source": [
    "svr_model.score(X_train_scaled,y_train_scaled)"
   ]
  },
  {
   "cell_type": "code",
   "execution_count": 19,
   "id": "fd8ef217-2f80-4822-beb2-4c3c1fbca394",
   "metadata": {},
   "outputs": [],
   "source": [
    "X_test_scaled = x_scaler.transform(X_test)\n",
    "y_hat = svr_model.predict(X_test_scaled)\n",
    "y_hat_descaled = y_scaler.inverse_transform(y_hat.reshape(-1,1))"
   ]
  },
  {
   "cell_type": "code",
   "execution_count": 20,
   "id": "b191caa0-fa18-46f4-8384-713a15bebd99",
   "metadata": {},
   "outputs": [
    {
     "data": {
      "text/plain": [
       "7893.736895246721"
      ]
     },
     "execution_count": 20,
     "metadata": {},
     "output_type": "execute_result"
    }
   ],
   "source": [
    "math.sqrt(mean_squared_error(y_test, y_hat_descaled))"
   ]
  },
  {
   "cell_type": "markdown",
   "id": "bc595d6b-83e2-494a-ad1a-4686d3692c91",
   "metadata": {},
   "source": [
    "#### LSTM"
   ]
  },
  {
   "cell_type": "code",
   "execution_count": 21,
   "id": "15cbcfa8-2d7d-4343-81ae-5d9ba8de07b8",
   "metadata": {},
   "outputs": [],
   "source": [
    "X_train_scaled = X_train_scaled.reshape((X_train_scaled.shape[0], 1, X_train_scaled.shape[1]))\n",
    "X_test_scaled = x_scaler.transform(X_test)\n",
    "X_test_scaled = X_test_scaled.reshape((X_test_scaled.shape[0], 1, X_test_scaled.shape[1]))"
   ]
  },
  {
   "cell_type": "code",
   "execution_count": 22,
   "id": "4c33d48f-53d8-41fa-aeaa-f8dee46baa2a",
   "metadata": {},
   "outputs": [
    {
     "data": {
      "text/plain": [
       "(33900, 1, 60)"
      ]
     },
     "execution_count": 22,
     "metadata": {},
     "output_type": "execute_result"
    }
   ],
   "source": [
    "X_train_scaled.shape"
   ]
  },
  {
   "cell_type": "code",
   "execution_count": 23,
   "id": "4d561b51-e0a6-4488-8354-298054da8509",
   "metadata": {},
   "outputs": [],
   "source": [
    "y_test_scaled = y_scaler.transform(y_test.reshape(-1,1))"
   ]
  },
  {
   "cell_type": "code",
   "execution_count": 24,
   "id": "d7f48b79-9c86-4be0-b0bd-1d3e91417a2e",
   "metadata": {},
   "outputs": [
    {
     "name": "stdout",
     "output_type": "stream",
     "text": [
      "Metal device set to: Apple M1\n",
      "Epoch 1/15\n"
     ]
    },
    {
     "name": "stderr",
     "output_type": "stream",
     "text": [
      "2022-04-25 08:07:23.641656: I tensorflow/core/common_runtime/pluggable_device/pluggable_device_factory.cc:305] Could not identify NUMA node of platform GPU ID 0, defaulting to 0. Your kernel may not have been built with NUMA support.\n",
      "2022-04-25 08:07:23.641740: I tensorflow/core/common_runtime/pluggable_device/pluggable_device_factory.cc:271] Created TensorFlow device (/job:localhost/replica:0/task:0/device:GPU:0 with 0 MB memory) -> physical PluggableDevice (device: 0, name: METAL, pci bus id: <undefined>)\n",
      "2022-04-25 08:07:23.777319: W tensorflow/core/platform/profile_utils/cpu_utils.cc:128] Failed to get CPU frequency: 0 Hz\n",
      "2022-04-25 08:07:24.189135: I tensorflow/core/grappler/optimizers/custom_graph_optimizer_registry.cc:113] Plugin optimizer for device_type GPU is enabled.\n",
      "2022-04-25 08:07:24.299720: I tensorflow/core/grappler/optimizers/custom_graph_optimizer_registry.cc:113] Plugin optimizer for device_type GPU is enabled.\n",
      "2022-04-25 08:07:24.358668: I tensorflow/core/grappler/optimizers/custom_graph_optimizer_registry.cc:113] Plugin optimizer for device_type GPU is enabled.\n"
     ]
    },
    {
     "name": "stdout",
     "output_type": "stream",
     "text": [
      "469/471 [============================>.] - ETA: 0s - loss: 0.0093"
     ]
    },
    {
     "name": "stderr",
     "output_type": "stream",
     "text": [
      "2022-04-25 08:07:27.311283: I tensorflow/core/grappler/optimizers/custom_graph_optimizer_registry.cc:113] Plugin optimizer for device_type GPU is enabled.\n",
      "2022-04-25 08:07:27.352128: I tensorflow/core/grappler/optimizers/custom_graph_optimizer_registry.cc:113] Plugin optimizer for device_type GPU is enabled.\n"
     ]
    },
    {
     "name": "stdout",
     "output_type": "stream",
     "text": [
      "471/471 [==============================] - 7s 13ms/step - loss: 0.0093 - val_loss: 0.0019\n",
      "Epoch 2/15\n",
      "471/471 [==============================] - 6s 12ms/step - loss: 0.0073 - val_loss: 6.0472e-04\n",
      "Epoch 3/15\n",
      "471/471 [==============================] - 6s 12ms/step - loss: 0.0035 - val_loss: 8.8342e-04\n",
      "Epoch 4/15\n",
      "471/471 [==============================] - 6s 12ms/step - loss: 0.0033 - val_loss: 0.0023\n",
      "Epoch 5/15\n",
      "471/471 [==============================] - 6s 13ms/step - loss: 0.0051 - val_loss: 0.0011\n",
      "Epoch 6/15\n",
      "471/471 [==============================] - 6s 12ms/step - loss: 0.0073 - val_loss: 6.4082e-04\n",
      "Epoch 7/15\n",
      "471/471 [==============================] - 6s 12ms/step - loss: 0.0059 - val_loss: 0.0016\n",
      "Epoch 8/15\n",
      "471/471 [==============================] - 6s 12ms/step - loss: 0.0043 - val_loss: 0.0019\n",
      "Epoch 9/15\n",
      "471/471 [==============================] - 6s 12ms/step - loss: 0.0021 - val_loss: 1.7277e-04\n",
      "Epoch 10/15\n",
      "471/471 [==============================] - 6s 12ms/step - loss: 0.0059 - val_loss: 0.0020\n",
      "Epoch 11/15\n",
      "471/471 [==============================] - 6s 12ms/step - loss: 0.0028 - val_loss: 0.0016\n",
      "Epoch 12/15\n",
      "471/471 [==============================] - 6s 12ms/step - loss: 0.0023 - val_loss: 3.9610e-04\n",
      "Epoch 13/15\n",
      "471/471 [==============================] - 6s 12ms/step - loss: 0.0028 - val_loss: 9.4536e-04\n",
      "Epoch 14/15\n",
      "471/471 [==============================] - 6s 12ms/step - loss: 0.0017 - val_loss: 2.1011e-04\n",
      "Epoch 15/15\n",
      "471/471 [==============================] - 6s 12ms/step - loss: 0.0014 - val_loss: 8.5823e-04\n"
     ]
    }
   ],
   "source": [
    "from keras.models import Sequential\n",
    "from keras.layers import Dense\n",
    "from keras.layers import LSTM\n",
    "\n",
    "# design network\n",
    "model = Sequential()\n",
    "model.add(LSTM(100, input_shape=(X_train_scaled.shape[1], X_train_scaled.shape[2])))\n",
    "model.add(Dense(1))\n",
    "model.compile(loss='mae', optimizer='adam')\n",
    "\n",
    "# fit network\n",
    "history = model.fit(X_train_scaled, y_train_scaled, epochs=15, batch_size=72, validation_data=(X_test_scaled, y_test_scaled), verbose=1, shuffle=False)"
   ]
  },
  {
   "cell_type": "code",
   "execution_count": 25,
   "id": "4d7c8d61-5a26-4fe2-81a1-c3a6313c50f2",
   "metadata": {},
   "outputs": [
    {
     "name": "stderr",
     "output_type": "stream",
     "text": [
      "2022-04-25 08:08:48.988664: I tensorflow/core/grappler/optimizers/custom_graph_optimizer_registry.cc:113] Plugin optimizer for device_type GPU is enabled.\n",
      "2022-04-25 08:08:49.023709: I tensorflow/core/grappler/optimizers/custom_graph_optimizer_registry.cc:113] Plugin optimizer for device_type GPU is enabled.\n"
     ]
    }
   ],
   "source": [
    "yhat = model.predict(X_test_scaled)\n",
    "y_hat_descaled = y_scaler.inverse_transform(y_hat.reshape(-1,1))"
   ]
  },
  {
   "cell_type": "code",
   "execution_count": 26,
   "id": "f7140fa8-277b-40c0-8749-9a98c4377de7",
   "metadata": {},
   "outputs": [
    {
     "data": {
      "text/plain": [
       "7893.736895246721"
      ]
     },
     "execution_count": 26,
     "metadata": {},
     "output_type": "execute_result"
    }
   ],
   "source": [
    "math.sqrt(mean_squared_error(y_test, y_hat_descaled))"
   ]
  },
  {
   "cell_type": "markdown",
   "id": "e6631ef7-67bd-4c6c-a852-9f5ca8365566",
   "metadata": {},
   "source": [
    "### Without ESP"
   ]
  },
  {
   "cell_type": "code",
   "execution_count": 27,
   "id": "fd0cf613-6091-461e-abb5-d4d9fd0b1fc3",
   "metadata": {},
   "outputs": [
    {
     "data": {
      "text/html": [
       "<div>\n",
       "<style scoped>\n",
       "    .dataframe tbody tr th:only-of-type {\n",
       "        vertical-align: middle;\n",
       "    }\n",
       "\n",
       "    .dataframe tbody tr th {\n",
       "        vertical-align: top;\n",
       "    }\n",
       "\n",
       "    .dataframe thead th {\n",
       "        text-align: right;\n",
       "    }\n",
       "</style>\n",
       "<table border=\"1\" class=\"dataframe\">\n",
       "  <thead>\n",
       "    <tr style=\"text-align: right;\">\n",
       "      <th></th>\n",
       "      <th>Close(t-30)</th>\n",
       "      <th>Close(t-29)</th>\n",
       "      <th>Close(t-28)</th>\n",
       "      <th>Close(t-27)</th>\n",
       "      <th>Close(t-26)</th>\n",
       "      <th>Close(t-25)</th>\n",
       "      <th>Close(t-24)</th>\n",
       "      <th>Close(t-23)</th>\n",
       "      <th>Close(t-22)</th>\n",
       "      <th>Close(t-21)</th>\n",
       "      <th>...</th>\n",
       "      <th>Close(t-9)</th>\n",
       "      <th>Close(t-8)</th>\n",
       "      <th>Close(t-7)</th>\n",
       "      <th>Close(t-6)</th>\n",
       "      <th>Close(t-5)</th>\n",
       "      <th>Close(t-4)</th>\n",
       "      <th>Close(t-3)</th>\n",
       "      <th>Close(t-2)</th>\n",
       "      <th>Close(t-1)</th>\n",
       "      <th>Close(t)</th>\n",
       "    </tr>\n",
       "  </thead>\n",
       "  <tbody>\n",
       "    <tr>\n",
       "      <th>0</th>\n",
       "      <td>96.424286</td>\n",
       "      <td>95.747147</td>\n",
       "      <td>96.610001</td>\n",
       "      <td>97.205711</td>\n",
       "      <td>94.677139</td>\n",
       "      <td>94.370003</td>\n",
       "      <td>95.684288</td>\n",
       "      <td>97.568573</td>\n",
       "      <td>98.754288</td>\n",
       "      <td>99.968575</td>\n",
       "      <td>...</td>\n",
       "      <td>95.921425</td>\n",
       "      <td>95.257141</td>\n",
       "      <td>93.227142</td>\n",
       "      <td>91.167145</td>\n",
       "      <td>90.835716</td>\n",
       "      <td>91.558571</td>\n",
       "      <td>89.728569</td>\n",
       "      <td>89.958572</td>\n",
       "      <td>90.680000</td>\n",
       "      <td>92.827141</td>\n",
       "    </tr>\n",
       "    <tr>\n",
       "      <th>1</th>\n",
       "      <td>95.747147</td>\n",
       "      <td>96.610001</td>\n",
       "      <td>97.205711</td>\n",
       "      <td>94.677139</td>\n",
       "      <td>94.370003</td>\n",
       "      <td>95.684288</td>\n",
       "      <td>97.568573</td>\n",
       "      <td>98.754288</td>\n",
       "      <td>99.968575</td>\n",
       "      <td>100.272858</td>\n",
       "      <td>...</td>\n",
       "      <td>95.257141</td>\n",
       "      <td>93.227142</td>\n",
       "      <td>91.167145</td>\n",
       "      <td>90.835716</td>\n",
       "      <td>91.558571</td>\n",
       "      <td>89.728569</td>\n",
       "      <td>89.958572</td>\n",
       "      <td>90.680000</td>\n",
       "      <td>92.827141</td>\n",
       "      <td>92.087143</td>\n",
       "    </tr>\n",
       "    <tr>\n",
       "      <th>2</th>\n",
       "      <td>96.610001</td>\n",
       "      <td>97.205711</td>\n",
       "      <td>94.677139</td>\n",
       "      <td>94.370003</td>\n",
       "      <td>95.684288</td>\n",
       "      <td>97.568573</td>\n",
       "      <td>98.754288</td>\n",
       "      <td>99.968575</td>\n",
       "      <td>100.272858</td>\n",
       "      <td>100.300003</td>\n",
       "      <td>...</td>\n",
       "      <td>93.227142</td>\n",
       "      <td>91.167145</td>\n",
       "      <td>90.835716</td>\n",
       "      <td>91.558571</td>\n",
       "      <td>89.728569</td>\n",
       "      <td>89.958572</td>\n",
       "      <td>90.680000</td>\n",
       "      <td>92.827141</td>\n",
       "      <td>92.087143</td>\n",
       "      <td>90.377144</td>\n",
       "    </tr>\n",
       "    <tr>\n",
       "      <th>3</th>\n",
       "      <td>97.205711</td>\n",
       "      <td>94.677139</td>\n",
       "      <td>94.370003</td>\n",
       "      <td>95.684288</td>\n",
       "      <td>97.568573</td>\n",
       "      <td>98.754288</td>\n",
       "      <td>99.968575</td>\n",
       "      <td>100.272858</td>\n",
       "      <td>100.300003</td>\n",
       "      <td>99.814285</td>\n",
       "      <td>...</td>\n",
       "      <td>91.167145</td>\n",
       "      <td>90.835716</td>\n",
       "      <td>91.558571</td>\n",
       "      <td>89.728569</td>\n",
       "      <td>89.958572</td>\n",
       "      <td>90.680000</td>\n",
       "      <td>92.827141</td>\n",
       "      <td>92.087143</td>\n",
       "      <td>90.377144</td>\n",
       "      <td>87.120003</td>\n",
       "    </tr>\n",
       "    <tr>\n",
       "      <th>4</th>\n",
       "      <td>94.677139</td>\n",
       "      <td>94.370003</td>\n",
       "      <td>95.684288</td>\n",
       "      <td>97.568573</td>\n",
       "      <td>98.754288</td>\n",
       "      <td>99.968575</td>\n",
       "      <td>100.272858</td>\n",
       "      <td>100.300003</td>\n",
       "      <td>99.814285</td>\n",
       "      <td>100.012856</td>\n",
       "      <td>...</td>\n",
       "      <td>90.835716</td>\n",
       "      <td>91.558571</td>\n",
       "      <td>89.728569</td>\n",
       "      <td>89.958572</td>\n",
       "      <td>90.680000</td>\n",
       "      <td>92.827141</td>\n",
       "      <td>92.087143</td>\n",
       "      <td>90.377144</td>\n",
       "      <td>87.120003</td>\n",
       "      <td>90.575714</td>\n",
       "    </tr>\n",
       "  </tbody>\n",
       "</table>\n",
       "<p>5 rows × 31 columns</p>\n",
       "</div>"
      ],
      "text/plain": [
       "   Close(t-30)  Close(t-29)  Close(t-28)  Close(t-27)  Close(t-26)  \\\n",
       "0    96.424286    95.747147    96.610001    97.205711    94.677139   \n",
       "1    95.747147    96.610001    97.205711    94.677139    94.370003   \n",
       "2    96.610001    97.205711    94.677139    94.370003    95.684288   \n",
       "3    97.205711    94.677139    94.370003    95.684288    97.568573   \n",
       "4    94.677139    94.370003    95.684288    97.568573    98.754288   \n",
       "\n",
       "   Close(t-25)  Close(t-24)  Close(t-23)  Close(t-22)  Close(t-21)  ...  \\\n",
       "0    94.370003    95.684288    97.568573    98.754288    99.968575  ...   \n",
       "1    95.684288    97.568573    98.754288    99.968575   100.272858  ...   \n",
       "2    97.568573    98.754288    99.968575   100.272858   100.300003  ...   \n",
       "3    98.754288    99.968575   100.272858   100.300003    99.814285  ...   \n",
       "4    99.968575   100.272858   100.300003    99.814285   100.012856  ...   \n",
       "\n",
       "   Close(t-9)  Close(t-8)  Close(t-7)  Close(t-6)  Close(t-5)  Close(t-4)  \\\n",
       "0   95.921425   95.257141   93.227142   91.167145   90.835716   91.558571   \n",
       "1   95.257141   93.227142   91.167145   90.835716   91.558571   89.728569   \n",
       "2   93.227142   91.167145   90.835716   91.558571   89.728569   89.958572   \n",
       "3   91.167145   90.835716   91.558571   89.728569   89.958572   90.680000   \n",
       "4   90.835716   91.558571   89.728569   89.958572   90.680000   92.827141   \n",
       "\n",
       "   Close(t-3)  Close(t-2)  Close(t-1)   Close(t)  \n",
       "0   89.728569   89.958572   90.680000  92.827141  \n",
       "1   89.958572   90.680000   92.827141  92.087143  \n",
       "2   90.680000   92.827141   92.087143  90.377144  \n",
       "3   92.827141   92.087143   90.377144  87.120003  \n",
       "4   92.087143   90.377144   87.120003  90.575714  \n",
       "\n",
       "[5 rows x 31 columns]"
      ]
     },
     "execution_count": 27,
     "metadata": {},
     "output_type": "execute_result"
    }
   ],
   "source": [
    "to_drop = ['EffectiveSentimentPolarity(t-%d)'%i for i in range(1,31)]\n",
    "data_wo = data.drop(to_drop, axis=1)\n",
    "data_wo.head()"
   ]
  },
  {
   "cell_type": "code",
   "execution_count": 28,
   "id": "2f6dc82d-5dd6-46b7-84e4-31e1044572e0",
   "metadata": {},
   "outputs": [],
   "source": [
    "# divide into train and test\n",
    "div = int( len(data)*0.3 )\n",
    "data_train = data_wo.iloc[:div, :]\n",
    "data_test = data_wo.iloc[div:, :]\n",
    "\n",
    "# divide into X and y\n",
    "X_train = data_train.iloc[:, :-1].values\n",
    "y_train = data_train.iloc[:, -1].values\n",
    "X_test = data_test.iloc[:, :-1].values\n",
    "y_test = data_test.iloc[:, -1].values"
   ]
  },
  {
   "cell_type": "code",
   "execution_count": 29,
   "id": "1cd3257f-f231-408f-a8fa-1b50078f4b5a",
   "metadata": {},
   "outputs": [],
   "source": [
    "x_scaler = MinMaxScaler()\n",
    "X_train_scaled = x_scaler.fit_transform(X_train)\n",
    "\n",
    "y_scaler = MinMaxScaler()\n",
    "y_train_scaled = y_scaler.fit_transform(y_train.reshape(-1,1))"
   ]
  },
  {
   "cell_type": "code",
   "execution_count": 30,
   "id": "a4e0cade-a123-4b9f-a61c-02068a3ecf89",
   "metadata": {},
   "outputs": [
    {
     "data": {
      "text/plain": [
       "LinearRegression()"
      ]
     },
     "execution_count": 30,
     "metadata": {},
     "output_type": "execute_result"
    }
   ],
   "source": [
    "lr_model = LinearRegression()\n",
    "lr_model.fit(X_train_scaled, y_train_scaled)"
   ]
  },
  {
   "cell_type": "code",
   "execution_count": 31,
   "id": "2c76456c-6ddb-4b20-964d-f9fce22e3ee2",
   "metadata": {},
   "outputs": [],
   "source": [
    "X_test_scaled = x_scaler.transform(X_test)\n",
    "y_hat = lr_model.predict(X_test_scaled)\n",
    "y_hat_descaled = y_scaler.inverse_transform(y_hat)"
   ]
  },
  {
   "cell_type": "code",
   "execution_count": 32,
   "id": "f440f7de-9171-4ee3-a4a7-912d96bc508d",
   "metadata": {},
   "outputs": [
    {
     "data": {
      "text/plain": [
       "2.9642501944129185"
      ]
     },
     "execution_count": 32,
     "metadata": {},
     "output_type": "execute_result"
    }
   ],
   "source": [
    "math.sqrt(mean_squared_error(y_test, y_hat_descaled))"
   ]
  }
 ],
 "metadata": {
  "kernelspec": {
   "display_name": "Python 3 (ipykernel)",
   "language": "python",
   "name": "python3"
  },
  "language_info": {
   "codemirror_mode": {
    "name": "ipython",
    "version": 3
   },
   "file_extension": ".py",
   "mimetype": "text/x-python",
   "name": "python",
   "nbconvert_exporter": "python",
   "pygments_lexer": "ipython3",
   "version": "3.9.10"
  }
 },
 "nbformat": 4,
 "nbformat_minor": 5
}
