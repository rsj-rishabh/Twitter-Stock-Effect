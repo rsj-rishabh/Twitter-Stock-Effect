{
 "cells": [
  {
   "cell_type": "code",
   "execution_count": 1,
   "metadata": {},
   "outputs": [],
   "source": [
    "import os\n",
    "import re\n",
    "import pandas as pd"
   ]
  },
  {
   "cell_type": "code",
   "execution_count": 35,
   "metadata": {},
   "outputs": [],
   "source": [
    "# initializing file path\n",
    "path = './stocknet-dataset/tweet/raw'"
   ]
  },
  {
   "cell_type": "code",
   "execution_count": 36,
   "metadata": {},
   "outputs": [],
   "source": [
    "# declaring an empty dictionary\n",
    "dct = {\n",
    "    'Company': [],\n",
    "    'Date': [],\n",
    "    'Tweet': [],\n",
    "    'Followers': []\n",
    "}\n",
    "\n",
    "# helper function to add value to a column in dictionary\n",
    "def addEntry(d, k, v):\n",
    "    tmp = d.get(k)\n",
    "    tmp.append(v)\n",
    "    d[k] = tmp"
   ]
  },
  {
   "cell_type": "code",
   "execution_count": 37,
   "metadata": {},
   "outputs": [],
   "source": [
    "# preparing data\n",
    "companies = os.listdir(path+'/')\n",
    "for company in companies:\n",
    "    dates = os.listdir(path+'/'+company+'/')\n",
    "    for date in dates:\n",
    "        data = open(path+'/'+company+'/'+date, 'r')\n",
    "        text = data.read().split('\\n')[:-1]\n",
    "        \n",
    "        # filling dictionary with processed valued\n",
    "        for line in text:\n",
    "            # add Company\n",
    "            addEntry(dct, 'Company', company)\n",
    "\n",
    "            # add date\n",
    "            addEntry(dct, 'Date', date)\n",
    "\n",
    "            # add tweet\n",
    "            tweet_tokens = line.split('\"text\":')[1].split(',')[0][1:]\n",
    "            tweet = []\n",
    "            for token in tweet_tokens.split(' '):\n",
    "                if (token != '') and (token[0] not in ['$', '#', '@']) and ('http' not in token) and ('--' not in token) and (token != 'RT'):\n",
    "                    token = re.sub('\\W+','', token)\n",
    "                    if token != '':\n",
    "                        tweet.append(token.lower())\n",
    "            tweet = ' '.join(tweet)\n",
    "            addEntry(dct, 'Tweet', tweet)\n",
    "\n",
    "            # add follower count\n",
    "            followers = line.split('\"friends_count\":')[1].split(',')[0]\n",
    "            addEntry(dct, 'Followers', followers)"
   ]
  },
  {
   "cell_type": "code",
   "execution_count": 38,
   "metadata": {},
   "outputs": [],
   "source": [
    "df = pd.DataFrame(dct)"
   ]
  },
  {
   "cell_type": "code",
   "execution_count": 39,
   "metadata": {},
   "outputs": [
    {
     "data": {
      "text/html": [
       "<div>\n",
       "<style scoped>\n",
       "    .dataframe tbody tr th:only-of-type {\n",
       "        vertical-align: middle;\n",
       "    }\n",
       "\n",
       "    .dataframe tbody tr th {\n",
       "        vertical-align: top;\n",
       "    }\n",
       "\n",
       "    .dataframe thead th {\n",
       "        text-align: right;\n",
       "    }\n",
       "</style>\n",
       "<table border=\"1\" class=\"dataframe\">\n",
       "  <thead>\n",
       "    <tr style=\"text-align: right;\">\n",
       "      <th></th>\n",
       "      <th>Company</th>\n",
       "      <th>Date</th>\n",
       "      <th>Tweet</th>\n",
       "      <th>Followers</th>\n",
       "    </tr>\n",
       "  </thead>\n",
       "  <tbody>\n",
       "    <tr>\n",
       "      <th>0</th>\n",
       "      <td>VZ</td>\n",
       "      <td>2014-10-14</td>\n",
       "      <td>news actives on open aapl u2026 board view</td>\n",
       "      <td>186</td>\n",
       "    </tr>\n",
       "    <tr>\n",
       "      <th>1</th>\n",
       "      <td>VZ</td>\n",
       "      <td>2015-06-20</td>\n",
       "      <td>pswseeking alpha june trade review</td>\n",
       "      <td>155</td>\n",
       "    </tr>\n",
       "    <tr>\n",
       "      <th>2</th>\n",
       "      <td>VZ</td>\n",
       "      <td>2015-06-20</td>\n",
       "      <td>pswseeking alpha june trade review</td>\n",
       "      <td>87</td>\n",
       "    </tr>\n",
       "    <tr>\n",
       "      <th>3</th>\n",
       "      <td>VZ</td>\n",
       "      <td>2015-06-20</td>\n",
       "      <td>pswseeking alpha june trade review</td>\n",
       "      <td>603</td>\n",
       "    </tr>\n",
       "    <tr>\n",
       "      <th>4</th>\n",
       "      <td>VZ</td>\n",
       "      <td>2015-06-20</td>\n",
       "      <td>pswseeking alpha june trade review</td>\n",
       "      <td>32</td>\n",
       "    </tr>\n",
       "  </tbody>\n",
       "</table>\n",
       "</div>"
      ],
      "text/plain": [
       "  Company        Date                                       Tweet Followers\n",
       "0      VZ  2014-10-14  news actives on open aapl u2026 board view       186\n",
       "1      VZ  2015-06-20          pswseeking alpha june trade review       155\n",
       "2      VZ  2015-06-20          pswseeking alpha june trade review        87\n",
       "3      VZ  2015-06-20          pswseeking alpha june trade review       603\n",
       "4      VZ  2015-06-20          pswseeking alpha june trade review        32"
      ]
     },
     "execution_count": 39,
     "metadata": {},
     "output_type": "execute_result"
    }
   ],
   "source": [
    "df.head()"
   ]
  },
  {
   "cell_type": "code",
   "execution_count": 40,
   "metadata": {},
   "outputs": [
    {
     "name": "stdout",
     "output_type": "stream",
     "text": [
      "<class 'pandas.core.frame.DataFrame'>\n",
      "RangeIndex: 119844 entries, 0 to 119843\n",
      "Data columns (total 4 columns):\n",
      " #   Column     Non-Null Count   Dtype \n",
      "---  ------     --------------   ----- \n",
      " 0   Company    119844 non-null  object\n",
      " 1   Date       119844 non-null  object\n",
      " 2   Tweet      119844 non-null  object\n",
      " 3   Followers  119844 non-null  object\n",
      "dtypes: object(4)\n",
      "memory usage: 3.7+ MB\n"
     ]
    }
   ],
   "source": [
    "df.info()"
   ]
  },
  {
   "cell_type": "code",
   "execution_count": 41,
   "metadata": {},
   "outputs": [],
   "source": [
    "df.to_csv('tweet_data.csv', index=False)"
   ]
  },
  {
   "cell_type": "code",
   "execution_count": null,
   "metadata": {},
   "outputs": [],
   "source": []
  }
 ],
 "metadata": {
  "interpreter": {
   "hash": "31f2aee4e71d21fbe5cf8b01ff0e069b9275f58929596ceb00d14d90e3e16cd6"
  },
  "kernelspec": {
   "display_name": "Python 3 (ipykernel)",
   "language": "python",
   "name": "python3"
  },
  "language_info": {
   "codemirror_mode": {
    "name": "ipython",
    "version": 3
   },
   "file_extension": ".py",
   "mimetype": "text/x-python",
   "name": "python",
   "nbconvert_exporter": "python",
   "pygments_lexer": "ipython3",
   "version": "3.9.10"
  }
 },
 "nbformat": 4,
 "nbformat_minor": 4
}
